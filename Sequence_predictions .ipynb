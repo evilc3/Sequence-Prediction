{
 "cells": [
  {
   "cell_type": "markdown",
   "metadata": {
    "colab_type": "text",
    "id": "y7use74b-DMi"
   },
   "source": [
    "# Trainig on Germany Temperature dataset for practice\n",
    "Weather Station at the Max-Planck-Institute for Biogeochemistry in Jena, Germany: http://www.bgc-jena.mpg.de/wetter/.\n",
    "\n",
    "\n",
    "\n",
    "\n",
    "Source :-https://github.com/fchollet/deep-learning-with-python-notebooks/blob/master/6.3-advanced-usage-of-recurrent-neural-networks.ipynb"
   ]
  },
  {
   "cell_type": "code",
   "execution_count": 86,
   "metadata": {
    "colab": {
     "base_uri": "https://localhost:8080/",
     "height": 204
    },
    "colab_type": "code",
    "id": "hp32cVkgsZ0w",
    "outputId": "206d990b-894b-420d-f975-d23e825da14f"
   },
   "outputs": [
    {
     "name": "stdout",
     "output_type": "stream",
     "text": [
      "--2019-04-28 19:10:40--  http://www.bgc-jena.mpg.de/~mheimann/weather/Daily_Temperatures_Jena.xls\n",
      "Resolving www.bgc-jena.mpg.de (www.bgc-jena.mpg.de)... 195.37.229.23\n",
      "Connecting to www.bgc-jena.mpg.de (www.bgc-jena.mpg.de)|195.37.229.23|:80... connected.\n",
      "HTTP request sent, awaiting response... 200 OK\n",
      "Length: 10892800 (10M) [application/vnd.ms-excel]\n",
      "Saving to: ‘Daily_Temperatures_Jena.xls.1’\n",
      "\n",
      "Daily_Temperatures_ 100%[===================>]  10.39M   415KB/s    in 26s     \n",
      "\n",
      "2019-04-28 19:11:07 (410 KB/s) - ‘Daily_Temperatures_Jena.xls.1’ saved [10892800/10892800]\n",
      "\n"
     ]
    }
   ],
   "source": [
    "!wget http://www.bgc-jena.mpg.de/~mheimann/weather/Daily_Temperatures_Jena.xls"
   ]
  },
  {
   "cell_type": "code",
   "execution_count": 0,
   "metadata": {
    "colab": {},
    "colab_type": "code",
    "id": "9o6LvYxQsvD4"
   },
   "outputs": [],
   "source": [
    "import pandas as pd\n",
    "\n",
    "\n",
    "data = pd.read_excel('/content/Daily_Temperatures_Jena.xls',sheet_name = 2)\n",
    "\n",
    "\n"
   ]
  },
  {
   "cell_type": "code",
   "execution_count": 88,
   "metadata": {
    "colab": {
     "base_uri": "https://localhost:8080/",
     "height": 34
    },
    "colab_type": "code",
    "id": "qGzw_FvqsvOM",
    "outputId": "fe4efeef-0799-4024-c716-58b552a1c3cd"
   },
   "outputs": [
    {
     "data": {
      "text/plain": [
       "7057"
      ]
     },
     "execution_count": 88,
     "metadata": {
      "tags": []
     },
     "output_type": "execute_result"
    }
   ],
   "source": [
    "data['Year'].count()"
   ]
  },
  {
   "cell_type": "code",
   "execution_count": 0,
   "metadata": {
    "colab": {},
    "colab_type": "code",
    "id": "ginFudULthuA"
   },
   "outputs": [],
   "source": [
    "data.head()"
   ]
  },
  {
   "cell_type": "code",
   "execution_count": 0,
   "metadata": {
    "colab": {},
    "colab_type": "code",
    "id": "w1AcSBv8vbwk"
   },
   "outputs": [],
   "source": [
    "print('preparing data from year 2000')\n",
    "\n",
    "import matplotlib.pyplot as plt\n",
    "\n",
    "\n",
    "st = 'Tmax'\n",
    "plt.plot(data[st].values)\n",
    "\n",
    "data[st].min()\n",
    "\n",
    "\n",
    "df = data[data.Tmean != -999]\n",
    "\n",
    "print('removinng outliners ')"
   ]
  },
  {
   "cell_type": "code",
   "execution_count": 0,
   "metadata": {
    "colab": {},
    "colab_type": "code",
    "id": "Hi8lJ4ZW2IB9"
   },
   "outputs": [],
   "source": [
    "plt.plot(df['Tmean'])"
   ]
  },
  {
   "cell_type": "code",
   "execution_count": 0,
   "metadata": {
    "colab": {},
    "colab_type": "code",
    "id": "0CLhoDB15l6F"
   },
   "outputs": [],
   "source": [
    "print(df['Tmean'].iloc[0:11])\n",
    "print(df['Tmean'].iloc[10])"
   ]
  },
  {
   "cell_type": "code",
   "execution_count": 0,
   "metadata": {
    "colab": {},
    "colab_type": "code",
    "id": "zg9yyd6z7T0C"
   },
   "outputs": [],
   "source": [
    "#normalize data\n",
    "\n",
    "mean = df['Tmean'].mean()\n",
    "std = df['Tmean'].std()\n",
    "\n",
    "\n",
    "print(mean,std)\n",
    "\n",
    "\n",
    "df['Nom_Tmean'] = (df['Tmean']-mean)/std"
   ]
  },
  {
   "cell_type": "code",
   "execution_count": 0,
   "metadata": {
    "colab": {},
    "colab_type": "code",
    "id": "1cy4-a3g7u82"
   },
   "outputs": [],
   "source": [
    "df.head()"
   ]
  },
  {
   "cell_type": "code",
   "execution_count": 0,
   "metadata": {
    "colab": {},
    "colab_type": "code",
    "id": "nahQddZXf8w4"
   },
   "outputs": [],
   "source": []
  },
  {
   "cell_type": "code",
   "execution_count": 0,
   "metadata": {
    "colab": {},
    "colab_type": "code",
    "id": "diVo1u8Z3bnM"
   },
   "outputs": [],
   "source": [
    "import numpy as np\n",
    "#get data in batch_size * time_stamp * seq format \n",
    "\n",
    "time_step = 10 # take values of d past 10 days and try to predict d value of 10 + 1 day\n",
    "\n",
    "dim = 1 # take value of i day\n",
    "\n",
    "batch_size = df['Nom_Tmean'].count()\n",
    "\n",
    "#shaping dataste\n",
    "\n",
    "x = []\n",
    "y = []\n",
    "for i in range(batch_size - time_step):\n",
    "  \n",
    "  \n",
    "  x.append(df['Nom_Tmean'].iloc[i:i+time_step])\n",
    "  y.append(df['Nom_Tmean'].iloc[i+time_step])\n",
    "  \n",
    "  \n",
    "\n",
    "x = np.array(x).reshape(-1,time_step,dim)\n",
    "y = np.array(y)\n",
    "\n",
    "print(x.shape)\n",
    "print(y.shape)"
   ]
  },
  {
   "cell_type": "code",
   "execution_count": 0,
   "metadata": {
    "colab": {},
    "colab_type": "code",
    "id": "h28c3xXCh9cX"
   },
   "outputs": [],
   "source": [
    "plt.plot(x.reshape(-1,10))"
   ]
  },
  {
   "cell_type": "code",
   "execution_count": 0,
   "metadata": {
    "colab": {},
    "colab_type": "code",
    "id": "DEAvvZWTiENc"
   },
   "outputs": [],
   "source": [
    "plt.plot(y)"
   ]
  },
  {
   "cell_type": "code",
   "execution_count": 0,
   "metadata": {
    "colab": {},
    "colab_type": "code",
    "id": "tIRZngmHiG7T"
   },
   "outputs": [],
   "source": [
    "print('splitting grain and test split')\n",
    "\n",
    "num = int(len(x) * 0.8)\n",
    "train_x = x[:num]\n",
    "test_x = x[num:]\n",
    "\n",
    "print(train_x.shape,test_x.shape)\n",
    "\n",
    "train_y = y[:num]\n",
    "test_y = y[num:]\n",
    "\n",
    "\n",
    "\n",
    "print(train_y.shape,test_y.shape)\n",
    "\n",
    "\n"
   ]
  },
  {
   "cell_type": "code",
   "execution_count": 0,
   "metadata": {
    "colab": {},
    "colab_type": "code",
    "id": "Ax4SyyYf6Szj"
   },
   "outputs": [],
   "source": [
    "\n",
    "\n",
    "# from sklearn.model_selection import train_test_split\n",
    "\n",
    "# train_x,test_x,train_y,test_y = train_test_split(x,y,test_size = 0.2)\n",
    "\n"
   ]
  },
  {
   "cell_type": "code",
   "execution_count": 0,
   "metadata": {
    "colab": {},
    "colab_type": "code",
    "id": "67MKq_RR8SOB"
   },
   "outputs": [],
   "source": [
    "print(train_x.shape)\n",
    "print(test_x.shape)"
   ]
  },
  {
   "cell_type": "code",
   "execution_count": 0,
   "metadata": {
    "colab": {},
    "colab_type": "code",
    "id": "r6YYBy2q8ahd"
   },
   "outputs": [],
   "source": []
  },
  {
   "cell_type": "code",
   "execution_count": 0,
   "metadata": {
    "colab": {},
    "colab_type": "code",
    "id": "6U0OT-bK8c_z"
   },
   "outputs": [],
   "source": [
    "from keras.models import Sequential\n",
    "from keras import layers\n",
    "from keras.optimizers import RMSprop\n",
    "\n",
    "model = Sequential()\n",
    "model.add(layers.LSTM(32, input_shape=(time_step,1),dropout = 0.2, recurrent_dropout = 0.2))\n",
    "model.add(layers.Dense(1))\n",
    "\n",
    "model.compile(optimizer=RMSprop(), loss='mae')\n",
    "\n",
    "model.summary()                          "
   ]
  },
  {
   "cell_type": "code",
   "execution_count": 0,
   "metadata": {
    "colab": {},
    "colab_type": "code",
    "id": "dFBu7Jyy9b61"
   },
   "outputs": [],
   "source": [
    "model.get_input_shape_at(0)"
   ]
  },
  {
   "cell_type": "code",
   "execution_count": 0,
   "metadata": {
    "colab": {},
    "colab_type": "code",
    "id": "x3sNgA-UDMj-"
   },
   "outputs": [],
   "source": [
    "history = model.fit(train_x,train_y,\n",
    "#                               steps_per_eochs = 200,\n",
    "                              epochs=30\n",
    "                    ,\n",
    "                              validation_data=(test_x,test_y)\n",
    "#                     ,validation_steps = 100 \n",
    "                )"
   ]
  },
  {
   "cell_type": "code",
   "execution_count": 0,
   "metadata": {
    "colab": {},
    "colab_type": "code",
    "id": "_2onv6o8cj4b"
   },
   "outputs": [],
   "source": [
    "plt.plot(train_x.reshape(-1,10))"
   ]
  },
  {
   "cell_type": "code",
   "execution_count": 0,
   "metadata": {
    "colab": {},
    "colab_type": "code",
    "id": "IhYN3gzKdqrS"
   },
   "outputs": [],
   "source": [
    "plt.plot(model.predict(train_x),c = 'r')"
   ]
  },
  {
   "cell_type": "code",
   "execution_count": 0,
   "metadata": {
    "colab": {},
    "colab_type": "code",
    "id": "fuX-JOayeAOH"
   },
   "outputs": [],
   "source": [
    "model.evaluate(train_x,train_y)"
   ]
  },
  {
   "cell_type": "code",
   "execution_count": 0,
   "metadata": {
    "colab": {},
    "colab_type": "code",
    "id": "GudT1hrhg7J2"
   },
   "outputs": [],
   "source": [
    "train_y[0]"
   ]
  },
  {
   "cell_type": "code",
   "execution_count": 0,
   "metadata": {
    "colab": {},
    "colab_type": "code",
    "id": "4J44BB15gv73"
   },
   "outputs": [],
   "source": [
    "model.predict(np.expand_dims(train_x[0],axis = 0))"
   ]
  },
  {
   "cell_type": "markdown",
   "metadata": {
    "colab_type": "text",
    "id": "pI_ZDBhOqlm9"
   },
   "source": [
    "#Traning on INDIAN TEMPERTURE \n",
    "\n",
    "source : kaggle datase   https://www.kaggle.com/data/27099\n",
    "\n",
    "http://academic.udayton.edu/kissock/http/Weather/gsod95-current/INBOMBAY.txt\n"
   ]
  },
  {
   "cell_type": "code",
   "execution_count": 80,
   "metadata": {
    "colab": {
     "base_uri": "https://localhost:8080/",
     "height": 204
    },
    "colab_type": "code",
    "id": "nNxo4HqeqchA",
    "outputId": "969810a1-d4a4-49d9-d11e-cc306aab4235"
   },
   "outputs": [
    {
     "name": "stdout",
     "output_type": "stream",
     "text": [
      "--2019-04-28 19:10:15--  http://academic.udayton.edu/kissock/http/Weather/gsod95-current/INBOMBAY.txt\n",
      "Resolving academic.udayton.edu (academic.udayton.edu)... 131.238.16.100\n",
      "Connecting to academic.udayton.edu (academic.udayton.edu)|131.238.16.100|:80... connected.\n",
      "HTTP request sent, awaiting response... 200 OK\n",
      "Length: 426182 (416K) [text/plain]\n",
      "Saving to: ‘INBOMBAY.txt.1’\n",
      "\n",
      "\r",
      "INBOMBAY.txt.1        0%[                    ]       0  --.-KB/s               \r",
      "INBOMBAY.txt.1       21%[===>                ]  87.43K   374KB/s               \r",
      "INBOMBAY.txt.1      100%[===================>] 416.19K  1.13MB/s    in 0.4s    \n",
      "\n",
      "2019-04-28 19:10:15 (1.13 MB/s) - ‘INBOMBAY.txt.1’ saved [426182/426182]\n",
      "\n"
     ]
    }
   ],
   "source": [
    "!wget http://academic.udayton.edu/kissock/http/Weather/gsod95-current/INBOMBAY.txt"
   ]
  },
  {
   "cell_type": "code",
   "execution_count": 0,
   "metadata": {
    "colab": {},
    "colab_type": "code",
    "id": "KPIJpTAGS8lh"
   },
   "outputs": [],
   "source": [
    "import numpy as np\n",
    "import matplotlib.pyplot as plt\n",
    "import numpy as np"
   ]
  },
  {
   "cell_type": "code",
   "execution_count": 82,
   "metadata": {
    "colab": {
     "base_uri": "https://localhost:8080/",
     "height": 204
    },
    "colab_type": "code",
    "id": "XC-xJPEBrO5-",
    "outputId": "809ea6c1-1d76-494a-d227-216fd6ecf3c0"
   },
   "outputs": [
    {
     "data": {
      "text/html": [
       "<div>\n",
       "<style scoped>\n",
       "    .dataframe tbody tr th:only-of-type {\n",
       "        vertical-align: middle;\n",
       "    }\n",
       "\n",
       "    .dataframe tbody tr th {\n",
       "        vertical-align: top;\n",
       "    }\n",
       "\n",
       "    .dataframe thead th {\n",
       "        text-align: right;\n",
       "    }\n",
       "</style>\n",
       "<table border=\"1\" class=\"dataframe\">\n",
       "  <thead>\n",
       "    <tr style=\"text-align: right;\">\n",
       "      <th></th>\n",
       "      <th>Month</th>\n",
       "      <th>Day</th>\n",
       "      <th>Year</th>\n",
       "      <th>Temp(F)</th>\n",
       "    </tr>\n",
       "  </thead>\n",
       "  <tbody>\n",
       "    <tr>\n",
       "      <th>0</th>\n",
       "      <td>1</td>\n",
       "      <td>1</td>\n",
       "      <td>1995</td>\n",
       "      <td>71.8</td>\n",
       "    </tr>\n",
       "    <tr>\n",
       "      <th>1</th>\n",
       "      <td>1</td>\n",
       "      <td>2</td>\n",
       "      <td>1995</td>\n",
       "      <td>72.0</td>\n",
       "    </tr>\n",
       "    <tr>\n",
       "      <th>2</th>\n",
       "      <td>1</td>\n",
       "      <td>3</td>\n",
       "      <td>1995</td>\n",
       "      <td>70.3</td>\n",
       "    </tr>\n",
       "    <tr>\n",
       "      <th>3</th>\n",
       "      <td>1</td>\n",
       "      <td>4</td>\n",
       "      <td>1995</td>\n",
       "      <td>69.7</td>\n",
       "    </tr>\n",
       "    <tr>\n",
       "      <th>4</th>\n",
       "      <td>1</td>\n",
       "      <td>5</td>\n",
       "      <td>1995</td>\n",
       "      <td>71.3</td>\n",
       "    </tr>\n",
       "  </tbody>\n",
       "</table>\n",
       "</div>"
      ],
      "text/plain": [
       "   Month  Day  Year  Temp(F)\n",
       "0      1    1  1995     71.8\n",
       "1      1    2  1995     72.0\n",
       "2      1    3  1995     70.3\n",
       "3      1    4  1995     69.7\n",
       "4      1    5  1995     71.3"
      ]
     },
     "execution_count": 82,
     "metadata": {
      "tags": []
     },
     "output_type": "execute_result"
    }
   ],
   "source": [
    "indian_data = pd.read_fwf('/content/INBOMBAY.txt',header = None)\n",
    "indian_data.columns = ['Month','Day','Year',\n",
    "                     'Temp(F)']\n",
    "\n",
    "indian_data.head()"
   ]
  },
  {
   "cell_type": "code",
   "execution_count": 83,
   "metadata": {
    "colab": {
     "base_uri": "https://localhost:8080/",
     "height": 297
    },
    "colab_type": "code",
    "id": "DWo1GS62rb-3",
    "outputId": "90b989f5-6e5b-4d0f-8025-b833bea81671"
   },
   "outputs": [
    {
     "data": {
      "text/html": [
       "<div>\n",
       "<style scoped>\n",
       "    .dataframe tbody tr th:only-of-type {\n",
       "        vertical-align: middle;\n",
       "    }\n",
       "\n",
       "    .dataframe tbody tr th {\n",
       "        vertical-align: top;\n",
       "    }\n",
       "\n",
       "    .dataframe thead th {\n",
       "        text-align: right;\n",
       "    }\n",
       "</style>\n",
       "<table border=\"1\" class=\"dataframe\">\n",
       "  <thead>\n",
       "    <tr style=\"text-align: right;\">\n",
       "      <th></th>\n",
       "      <th>Month</th>\n",
       "      <th>Day</th>\n",
       "      <th>Year</th>\n",
       "      <th>Temp(F)</th>\n",
       "    </tr>\n",
       "  </thead>\n",
       "  <tbody>\n",
       "    <tr>\n",
       "      <th>count</th>\n",
       "      <td>8879.000000</td>\n",
       "      <td>8879.000000</td>\n",
       "      <td>8879.000000</td>\n",
       "      <td>8879.000000</td>\n",
       "    </tr>\n",
       "    <tr>\n",
       "      <th>mean</th>\n",
       "      <td>3.983669</td>\n",
       "      <td>15.718775</td>\n",
       "      <td>2006.658295</td>\n",
       "      <td>81.555716</td>\n",
       "    </tr>\n",
       "    <tr>\n",
       "      <th>std</th>\n",
       "      <td>2.821302</td>\n",
       "      <td>8.797801</td>\n",
       "      <td>7.018956</td>\n",
       "      <td>10.345225</td>\n",
       "    </tr>\n",
       "    <tr>\n",
       "      <th>min</th>\n",
       "      <td>1.000000</td>\n",
       "      <td>1.000000</td>\n",
       "      <td>1995.000000</td>\n",
       "      <td>-99.000000</td>\n",
       "    </tr>\n",
       "    <tr>\n",
       "      <th>25%</th>\n",
       "      <td>1.000000</td>\n",
       "      <td>8.000000</td>\n",
       "      <td>2001.000000</td>\n",
       "      <td>79.900000</td>\n",
       "    </tr>\n",
       "    <tr>\n",
       "      <th>50%</th>\n",
       "      <td>3.000000</td>\n",
       "      <td>16.000000</td>\n",
       "      <td>2007.000000</td>\n",
       "      <td>82.500000</td>\n",
       "    </tr>\n",
       "    <tr>\n",
       "      <th>75%</th>\n",
       "      <td>6.000000</td>\n",
       "      <td>23.000000</td>\n",
       "      <td>2013.000000</td>\n",
       "      <td>84.700000</td>\n",
       "    </tr>\n",
       "    <tr>\n",
       "      <th>max</th>\n",
       "      <td>9.000000</td>\n",
       "      <td>31.000000</td>\n",
       "      <td>2019.000000</td>\n",
       "      <td>92.600000</td>\n",
       "    </tr>\n",
       "  </tbody>\n",
       "</table>\n",
       "</div>"
      ],
      "text/plain": [
       "             Month          Day         Year      Temp(F)\n",
       "count  8879.000000  8879.000000  8879.000000  8879.000000\n",
       "mean      3.983669    15.718775  2006.658295    81.555716\n",
       "std       2.821302     8.797801     7.018956    10.345225\n",
       "min       1.000000     1.000000  1995.000000   -99.000000\n",
       "25%       1.000000     8.000000  2001.000000    79.900000\n",
       "50%       3.000000    16.000000  2007.000000    82.500000\n",
       "75%       6.000000    23.000000  2013.000000    84.700000\n",
       "max       9.000000    31.000000  2019.000000    92.600000"
      ]
     },
     "execution_count": 83,
     "metadata": {
      "tags": []
     },
     "output_type": "execute_result"
    }
   ],
   "source": [
    "indian_data.describe()"
   ]
  },
  {
   "cell_type": "code",
   "execution_count": 84,
   "metadata": {
    "colab": {
     "base_uri": "https://localhost:8080/",
     "height": 34
    },
    "colab_type": "code",
    "id": "2X9ajP8Es35g",
    "outputId": "2e4a493e-58b8-4c5b-e948-e33492b82ebe"
   },
   "outputs": [
    {
     "name": "stdout",
     "output_type": "stream",
     "text": [
      "conveerting indian temperature from fahrenhite to celsius\n"
     ]
    }
   ],
   "source": [
    "print('conveerting indian temperature from fahrenhite to celsius')\n",
    "\n",
    "# c = 0.8 * f -32\n",
    "\n",
    "indian_data['Temp_c'] = 0.8 * indian_data['Temp(F)'] - 32\n",
    "\n",
    "\n"
   ]
  },
  {
   "cell_type": "code",
   "execution_count": 85,
   "metadata": {
    "colab": {
     "base_uri": "https://localhost:8080/",
     "height": 204
    },
    "colab_type": "code",
    "id": "pK2enOzQuRZr",
    "outputId": "a4716458-1d1a-4bb3-c363-65e2feeaad47"
   },
   "outputs": [
    {
     "data": {
      "text/html": [
       "<div>\n",
       "<style scoped>\n",
       "    .dataframe tbody tr th:only-of-type {\n",
       "        vertical-align: middle;\n",
       "    }\n",
       "\n",
       "    .dataframe tbody tr th {\n",
       "        vertical-align: top;\n",
       "    }\n",
       "\n",
       "    .dataframe thead th {\n",
       "        text-align: right;\n",
       "    }\n",
       "</style>\n",
       "<table border=\"1\" class=\"dataframe\">\n",
       "  <thead>\n",
       "    <tr style=\"text-align: right;\">\n",
       "      <th></th>\n",
       "      <th>Month</th>\n",
       "      <th>Day</th>\n",
       "      <th>Year</th>\n",
       "      <th>Temp(F)</th>\n",
       "      <th>Temp_c</th>\n",
       "    </tr>\n",
       "  </thead>\n",
       "  <tbody>\n",
       "    <tr>\n",
       "      <th>0</th>\n",
       "      <td>1</td>\n",
       "      <td>1</td>\n",
       "      <td>1995</td>\n",
       "      <td>71.8</td>\n",
       "      <td>25.44</td>\n",
       "    </tr>\n",
       "    <tr>\n",
       "      <th>1</th>\n",
       "      <td>1</td>\n",
       "      <td>2</td>\n",
       "      <td>1995</td>\n",
       "      <td>72.0</td>\n",
       "      <td>25.60</td>\n",
       "    </tr>\n",
       "    <tr>\n",
       "      <th>2</th>\n",
       "      <td>1</td>\n",
       "      <td>3</td>\n",
       "      <td>1995</td>\n",
       "      <td>70.3</td>\n",
       "      <td>24.24</td>\n",
       "    </tr>\n",
       "    <tr>\n",
       "      <th>3</th>\n",
       "      <td>1</td>\n",
       "      <td>4</td>\n",
       "      <td>1995</td>\n",
       "      <td>69.7</td>\n",
       "      <td>23.76</td>\n",
       "    </tr>\n",
       "    <tr>\n",
       "      <th>4</th>\n",
       "      <td>1</td>\n",
       "      <td>5</td>\n",
       "      <td>1995</td>\n",
       "      <td>71.3</td>\n",
       "      <td>25.04</td>\n",
       "    </tr>\n",
       "  </tbody>\n",
       "</table>\n",
       "</div>"
      ],
      "text/plain": [
       "   Month  Day  Year  Temp(F)  Temp_c\n",
       "0      1    1  1995     71.8   25.44\n",
       "1      1    2  1995     72.0   25.60\n",
       "2      1    3  1995     70.3   24.24\n",
       "3      1    4  1995     69.7   23.76\n",
       "4      1    5  1995     71.3   25.04"
      ]
     },
     "execution_count": 85,
     "metadata": {
      "tags": []
     },
     "output_type": "execute_result"
    }
   ],
   "source": [
    "indian_data.head()"
   ]
  },
  {
   "cell_type": "code",
   "execution_count": 16,
   "metadata": {
    "colab": {
     "base_uri": "https://localhost:8080/",
     "height": 286
    },
    "colab_type": "code",
    "id": "4n3xM1REuYzn",
    "outputId": "384614ba-6b79-43ea-d6ad-57a0bd4a87b0"
   },
   "outputs": [
    {
     "data": {
      "text/plain": [
       "[<matplotlib.lines.Line2D at 0x7f14e3f00f98>]"
      ]
     },
     "execution_count": 16,
     "metadata": {
      "tags": []
     },
     "output_type": "execute_result"
    },
    {
     "data": {
      "image/png": "[encoded data removed]",
      "text/plain": [
       "<Figure size 432x288 with 1 Axes>"
      ]
     },
     "metadata": {
      "tags": []
     },
     "output_type": "display_data"
    }
   ],
   "source": [
    "plt.plot(indian_data['Temp_c'])"
   ]
  },
  {
   "cell_type": "code",
   "execution_count": 17,
   "metadata": {
    "colab": {
     "base_uri": "https://localhost:8080/",
     "height": 51
    },
    "colab_type": "code",
    "id": "JfphpvGZuiJY",
    "outputId": "e9748f8f-cfd5-4766-a680-75b8ce54f855"
   },
   "outputs": [
    {
     "name": "stdout",
     "output_type": "stream",
     "text": [
      "removing outlinears\n",
      "removing all values below 25 degrees becz. tmp does not go below that in out area\n"
     ]
    }
   ],
   "source": [
    "print('removing outlinears')\n",
    "print('removing all values below 25 degrees becz. tmp does not go below that in out area')\n",
    "\n",
    "\n",
    "tmp_data = indian_data[indian_data.Temp_c > 24]\n",
    "\n",
    "\n"
   ]
  },
  {
   "cell_type": "code",
   "execution_count": 18,
   "metadata": {
    "colab": {
     "base_uri": "https://localhost:8080/",
     "height": 286
    },
    "colab_type": "code",
    "id": "g5Y63hTowArz",
    "outputId": "42a6ae9e-a212-4d38-c93b-5508e80c9404"
   },
   "outputs": [
    {
     "data": {
      "text/plain": [
       "[<matplotlib.lines.Line2D at 0x7f14e52e3208>]"
      ]
     },
     "execution_count": 18,
     "metadata": {
      "tags": []
     },
     "output_type": "execute_result"
    },
    {
     "data": {
      "image/png": "[encoded data removed]",
      "text/plain": [
       "<Figure size 432x288 with 1 Axes>"
      ]
     },
     "metadata": {
      "tags": []
     },
     "output_type": "display_data"
    }
   ],
   "source": [
    "plt.plot(tmp_data['Temp_c'])"
   ]
  },
  {
   "cell_type": "code",
   "execution_count": 19,
   "metadata": {
    "colab": {
     "base_uri": "https://localhost:8080/",
     "height": 34
    },
    "colab_type": "code",
    "id": "qWazPqS4wWqR",
    "outputId": "f60bd67e-e7e6-494b-a65e-0dc767b78650"
   },
   "outputs": [
    {
     "name": "stdout",
     "output_type": "stream",
     "text": [
      "taking data of past 3 yeras\n"
     ]
    }
   ],
   "source": [
    "print('taking data of past 3 yeras')\n",
    "\n",
    "data  = tmp_data[tmp_data.Year > 2015]\n"
   ]
  },
  {
   "cell_type": "code",
   "execution_count": 20,
   "metadata": {
    "colab": {
     "base_uri": "https://localhost:8080/",
     "height": 204
    },
    "colab_type": "code",
    "id": "pqM7G4O20mc2",
    "outputId": "dc8f8d8d-7d2b-4d6d-b1f7-266f23729457"
   },
   "outputs": [
    {
     "data": {
      "text/html": [
       "<div>\n",
       "<style scoped>\n",
       "    .dataframe tbody tr th:only-of-type {\n",
       "        vertical-align: middle;\n",
       "    }\n",
       "\n",
       "    .dataframe tbody tr th {\n",
       "        vertical-align: top;\n",
       "    }\n",
       "\n",
       "    .dataframe thead th {\n",
       "        text-align: right;\n",
       "    }\n",
       "</style>\n",
       "<table border=\"1\" class=\"dataframe\">\n",
       "  <thead>\n",
       "    <tr style=\"text-align: right;\">\n",
       "      <th></th>\n",
       "      <th>Month</th>\n",
       "      <th>Day</th>\n",
       "      <th>Year</th>\n",
       "      <th>Temp(F)</th>\n",
       "      <th>Temp_c</th>\n",
       "    </tr>\n",
       "  </thead>\n",
       "  <tbody>\n",
       "    <tr>\n",
       "      <th>7671</th>\n",
       "      <td>1</td>\n",
       "      <td>1</td>\n",
       "      <td>2016</td>\n",
       "      <td>83.5</td>\n",
       "      <td>34.80</td>\n",
       "    </tr>\n",
       "    <tr>\n",
       "      <th>7672</th>\n",
       "      <td>1</td>\n",
       "      <td>2</td>\n",
       "      <td>2016</td>\n",
       "      <td>80.4</td>\n",
       "      <td>32.32</td>\n",
       "    </tr>\n",
       "    <tr>\n",
       "      <th>7673</th>\n",
       "      <td>1</td>\n",
       "      <td>3</td>\n",
       "      <td>2016</td>\n",
       "      <td>78.5</td>\n",
       "      <td>30.80</td>\n",
       "    </tr>\n",
       "    <tr>\n",
       "      <th>7674</th>\n",
       "      <td>1</td>\n",
       "      <td>4</td>\n",
       "      <td>2016</td>\n",
       "      <td>80.8</td>\n",
       "      <td>32.64</td>\n",
       "    </tr>\n",
       "    <tr>\n",
       "      <th>7675</th>\n",
       "      <td>1</td>\n",
       "      <td>5</td>\n",
       "      <td>2016</td>\n",
       "      <td>81.2</td>\n",
       "      <td>32.96</td>\n",
       "    </tr>\n",
       "  </tbody>\n",
       "</table>\n",
       "</div>"
      ],
      "text/plain": [
       "      Month  Day  Year  Temp(F)  Temp_c\n",
       "7671      1    1  2016     83.5   34.80\n",
       "7672      1    2  2016     80.4   32.32\n",
       "7673      1    3  2016     78.5   30.80\n",
       "7674      1    4  2016     80.8   32.64\n",
       "7675      1    5  2016     81.2   32.96"
      ]
     },
     "execution_count": 20,
     "metadata": {
      "tags": []
     },
     "output_type": "execute_result"
    }
   ],
   "source": [
    "data.head()"
   ]
  },
  {
   "cell_type": "code",
   "execution_count": 21,
   "metadata": {
    "colab": {
     "base_uri": "https://localhost:8080/",
     "height": 122
    },
    "colab_type": "code",
    "id": "v_TGDum2xQuZ",
    "outputId": "d0a8c62e-c303-4731-a554-57d7052cdadd"
   },
   "outputs": [
    {
     "name": "stderr",
     "output_type": "stream",
     "text": [
      "/usr/local/lib/python3.6/dist-packages/pandas/core/frame.py:3940: SettingWithCopyWarning: \n",
      "A value is trying to be set on a copy of a slice from a DataFrame\n",
      "\n",
      "See the caveats in the documentation: http://pandas.pydata.org/pandas-docs/stable/indexing.html#indexing-view-versus-copy\n",
      "  errors=errors)\n"
     ]
    }
   ],
   "source": [
    "data.reset_index(inplace = True)\n",
    "data.drop(['index'],axis =1,inplace = True)"
   ]
  },
  {
   "cell_type": "code",
   "execution_count": 22,
   "metadata": {
    "colab": {
     "base_uri": "https://localhost:8080/",
     "height": 204
    },
    "colab_type": "code",
    "id": "cFityrLOyRhd",
    "outputId": "0221921c-345f-4270-982a-65a0a7c65e06"
   },
   "outputs": [
    {
     "data": {
      "text/html": [
       "<div>\n",
       "<style scoped>\n",
       "    .dataframe tbody tr th:only-of-type {\n",
       "        vertical-align: middle;\n",
       "    }\n",
       "\n",
       "    .dataframe tbody tr th {\n",
       "        vertical-align: top;\n",
       "    }\n",
       "\n",
       "    .dataframe thead th {\n",
       "        text-align: right;\n",
       "    }\n",
       "</style>\n",
       "<table border=\"1\" class=\"dataframe\">\n",
       "  <thead>\n",
       "    <tr style=\"text-align: right;\">\n",
       "      <th></th>\n",
       "      <th>Month</th>\n",
       "      <th>Day</th>\n",
       "      <th>Year</th>\n",
       "      <th>Temp(F)</th>\n",
       "      <th>Temp_c</th>\n",
       "    </tr>\n",
       "  </thead>\n",
       "  <tbody>\n",
       "    <tr>\n",
       "      <th>0</th>\n",
       "      <td>1</td>\n",
       "      <td>1</td>\n",
       "      <td>2016</td>\n",
       "      <td>83.5</td>\n",
       "      <td>34.80</td>\n",
       "    </tr>\n",
       "    <tr>\n",
       "      <th>1</th>\n",
       "      <td>1</td>\n",
       "      <td>2</td>\n",
       "      <td>2016</td>\n",
       "      <td>80.4</td>\n",
       "      <td>32.32</td>\n",
       "    </tr>\n",
       "    <tr>\n",
       "      <th>2</th>\n",
       "      <td>1</td>\n",
       "      <td>3</td>\n",
       "      <td>2016</td>\n",
       "      <td>78.5</td>\n",
       "      <td>30.80</td>\n",
       "    </tr>\n",
       "    <tr>\n",
       "      <th>3</th>\n",
       "      <td>1</td>\n",
       "      <td>4</td>\n",
       "      <td>2016</td>\n",
       "      <td>80.8</td>\n",
       "      <td>32.64</td>\n",
       "    </tr>\n",
       "    <tr>\n",
       "      <th>4</th>\n",
       "      <td>1</td>\n",
       "      <td>5</td>\n",
       "      <td>2016</td>\n",
       "      <td>81.2</td>\n",
       "      <td>32.96</td>\n",
       "    </tr>\n",
       "  </tbody>\n",
       "</table>\n",
       "</div>"
      ],
      "text/plain": [
       "   Month  Day  Year  Temp(F)  Temp_c\n",
       "0      1    1  2016     83.5   34.80\n",
       "1      1    2  2016     80.4   32.32\n",
       "2      1    3  2016     78.5   30.80\n",
       "3      1    4  2016     80.8   32.64\n",
       "4      1    5  2016     81.2   32.96"
      ]
     },
     "execution_count": 22,
     "metadata": {
      "tags": []
     },
     "output_type": "execute_result"
    }
   ],
   "source": [
    "data.head()"
   ]
  },
  {
   "cell_type": "code",
   "execution_count": 23,
   "metadata": {
    "colab": {
     "base_uri": "https://localhost:8080/",
     "height": 297
    },
    "colab_type": "code",
    "id": "X0Z94__P0WFB",
    "outputId": "15b4a65d-60ca-447d-f94d-fcd50f76a981"
   },
   "outputs": [
    {
     "data": {
      "text/html": [
       "<div>\n",
       "<style scoped>\n",
       "    .dataframe tbody tr th:only-of-type {\n",
       "        vertical-align: middle;\n",
       "    }\n",
       "\n",
       "    .dataframe tbody tr th {\n",
       "        vertical-align: top;\n",
       "    }\n",
       "\n",
       "    .dataframe thead th {\n",
       "        text-align: right;\n",
       "    }\n",
       "</style>\n",
       "<table border=\"1\" class=\"dataframe\">\n",
       "  <thead>\n",
       "    <tr style=\"text-align: right;\">\n",
       "      <th></th>\n",
       "      <th>Month</th>\n",
       "      <th>Day</th>\n",
       "      <th>Year</th>\n",
       "      <th>Temp(F)</th>\n",
       "      <th>Temp_c</th>\n",
       "    </tr>\n",
       "  </thead>\n",
       "  <tbody>\n",
       "    <tr>\n",
       "      <th>count</th>\n",
       "      <td>1201.000000</td>\n",
       "      <td>1201.000000</td>\n",
       "      <td>1201.000000</td>\n",
       "      <td>1201.000000</td>\n",
       "      <td>1201.000000</td>\n",
       "    </tr>\n",
       "    <tr>\n",
       "      <th>mean</th>\n",
       "      <td>3.868443</td>\n",
       "      <td>15.650291</td>\n",
       "      <td>2017.181515</td>\n",
       "      <td>83.091091</td>\n",
       "      <td>34.472873</td>\n",
       "    </tr>\n",
       "    <tr>\n",
       "      <th>std</th>\n",
       "      <td>2.758806</td>\n",
       "      <td>8.795507</td>\n",
       "      <td>0.968861</td>\n",
       "      <td>3.591099</td>\n",
       "      <td>2.872880</td>\n",
       "    </tr>\n",
       "    <tr>\n",
       "      <th>min</th>\n",
       "      <td>1.000000</td>\n",
       "      <td>1.000000</td>\n",
       "      <td>2016.000000</td>\n",
       "      <td>70.900000</td>\n",
       "      <td>24.720000</td>\n",
       "    </tr>\n",
       "    <tr>\n",
       "      <th>25%</th>\n",
       "      <td>1.000000</td>\n",
       "      <td>8.000000</td>\n",
       "      <td>2016.000000</td>\n",
       "      <td>80.900000</td>\n",
       "      <td>32.720000</td>\n",
       "    </tr>\n",
       "    <tr>\n",
       "      <th>50%</th>\n",
       "      <td>3.000000</td>\n",
       "      <td>16.000000</td>\n",
       "      <td>2017.000000</td>\n",
       "      <td>83.200000</td>\n",
       "      <td>34.560000</td>\n",
       "    </tr>\n",
       "    <tr>\n",
       "      <th>75%</th>\n",
       "      <td>6.000000</td>\n",
       "      <td>23.000000</td>\n",
       "      <td>2018.000000</td>\n",
       "      <td>85.700000</td>\n",
       "      <td>36.560000</td>\n",
       "    </tr>\n",
       "    <tr>\n",
       "      <th>max</th>\n",
       "      <td>9.000000</td>\n",
       "      <td>31.000000</td>\n",
       "      <td>2019.000000</td>\n",
       "      <td>91.900000</td>\n",
       "      <td>41.520000</td>\n",
       "    </tr>\n",
       "  </tbody>\n",
       "</table>\n",
       "</div>"
      ],
      "text/plain": [
       "             Month          Day         Year      Temp(F)       Temp_c\n",
       "count  1201.000000  1201.000000  1201.000000  1201.000000  1201.000000\n",
       "mean      3.868443    15.650291  2017.181515    83.091091    34.472873\n",
       "std       2.758806     8.795507     0.968861     3.591099     2.872880\n",
       "min       1.000000     1.000000  2016.000000    70.900000    24.720000\n",
       "25%       1.000000     8.000000  2016.000000    80.900000    32.720000\n",
       "50%       3.000000    16.000000  2017.000000    83.200000    34.560000\n",
       "75%       6.000000    23.000000  2018.000000    85.700000    36.560000\n",
       "max       9.000000    31.000000  2019.000000    91.900000    41.520000"
      ]
     },
     "execution_count": 23,
     "metadata": {
      "tags": []
     },
     "output_type": "execute_result"
    }
   ],
   "source": [
    "data.describe()"
   ]
  },
  {
   "cell_type": "code",
   "execution_count": 24,
   "metadata": {
    "colab": {
     "base_uri": "https://localhost:8080/",
     "height": 286
    },
    "colab_type": "code",
    "id": "y-4sjI4a1KW_",
    "outputId": "36636018-4b48-4e19-9b8a-e860e1569236"
   },
   "outputs": [
    {
     "data": {
      "text/plain": [
       "[<matplotlib.lines.Line2D at 0x7f14e3f451d0>]"
      ]
     },
     "execution_count": 24,
     "metadata": {
      "tags": []
     },
     "output_type": "execute_result"
    },
    {
     "data": {
      "image/png": "[encoded data removed]",
      "text/plain": [
       "<Figure size 432x288 with 1 Axes>"
      ]
     },
     "metadata": {
      "tags": []
     },
     "output_type": "display_data"
    }
   ],
   "source": [
    "plt.plot(data['Temp_c'])"
   ]
  },
  {
   "cell_type": "code",
   "execution_count": 25,
   "metadata": {
    "colab": {
     "base_uri": "https://localhost:8080/",
     "height": 156
    },
    "colab_type": "code",
    "id": "EVvqMoS51lU7",
    "outputId": "7193b6ee-7c27-4eb6-e4fb-1866bdae57fa"
   },
   "outputs": [
    {
     "name": "stdout",
     "output_type": "stream",
     "text": [
      "34.472872606161545 2.8728795933564566\n"
     ]
    },
    {
     "name": "stderr",
     "output_type": "stream",
     "text": [
      "/usr/local/lib/python3.6/dist-packages/ipykernel_launcher.py:9: SettingWithCopyWarning: \n",
      "A value is trying to be set on a copy of a slice from a DataFrame.\n",
      "Try using .loc[row_indexer,col_indexer] = value instead\n",
      "\n",
      "See the caveats in the documentation: http://pandas.pydata.org/pandas-docs/stable/indexing.html#indexing-view-versus-copy\n",
      "  if __name__ == '__main__':\n"
     ]
    }
   ],
   "source": [
    "#normalize data\n",
    "\n",
    "mean = data['Temp_c'].mean()\n",
    "std = data['Temp_c'].std()\n",
    "\n",
    "\n",
    "print(mean,std)\n",
    "\n",
    "\n",
    "data['Temp_c_norm'] = (data['Temp_c']-mean)/std"
   ]
  },
  {
   "cell_type": "code",
   "execution_count": 26,
   "metadata": {
    "colab": {
     "base_uri": "https://localhost:8080/",
     "height": 68
    },
    "colab_type": "code",
    "id": "iV0vmNGd1V5f",
    "outputId": "7965b22f-a64a-4ede-e724-44258bc97454"
   },
   "outputs": [
    {
     "name": "stdout",
     "output_type": "stream",
     "text": [
      "preparing data\n",
      "(1196, 5, 1)\n",
      "(1196,)\n"
     ]
    }
   ],
   "source": [
    "print('preparing data')\n",
    "\n",
    "import numpy as np\n",
    "#get data in batch_size * time_stamp * seq format \n",
    "\n",
    "time_step = 5 # take values of d past 5 days and try to predict d value of 5 + 1 day\n",
    "\n",
    "dim = 1 # take value of i day\n",
    "\n",
    "batch_size = data['Temp_c_norm'].count()\n",
    "\n",
    "#shaping dataste\n",
    "\n",
    "x = []\n",
    "y = []\n",
    "for i in range(batch_size - time_step):\n",
    "  \n",
    "  \n",
    "  x.append(data['Temp_c_norm'].iloc[i:i+time_step])\n",
    "  y.append(data['Temp_c_norm'].iloc[i+time_step])\n",
    "  \n",
    "  \n",
    "\n",
    "x = np.array(x).reshape(-1,time_step,dim)\n",
    "y = np.array(y)\n",
    "\n",
    "print(x.shape)\n",
    "print(y.shape)\n"
   ]
  },
  {
   "cell_type": "code",
   "execution_count": 27,
   "metadata": {
    "colab": {
     "base_uri": "https://localhost:8080/",
     "height": 354
    },
    "colab_type": "code",
    "id": "T1e7_mUZ2dK3",
    "outputId": "6e31d588-89c0-4637-f89e-cd5d13814981"
   },
   "outputs": [
    {
     "data": {
      "text/plain": [
       "[<matplotlib.lines.Line2D at 0x7f14e1554c88>,\n",
       " <matplotlib.lines.Line2D at 0x7f14e1554e80>,\n",
       " <matplotlib.lines.Line2D at 0x7f14e1554fd0>,\n",
       " <matplotlib.lines.Line2D at 0x7f14e1564160>,\n",
       " <matplotlib.lines.Line2D at 0x7f14e15642b0>]"
      ]
     },
     "execution_count": 27,
     "metadata": {
      "tags": []
     },
     "output_type": "execute_result"
    },
    {
     "data": {
      "image/png": "[encoded data removed]",
      "text/plain": [
       "<Figure size 432x288 with 1 Axes>"
      ]
     },
     "metadata": {
      "tags": []
     },
     "output_type": "display_data"
    }
   ],
   "source": [
    "plt.plot(x.reshape(-1,5))"
   ]
  },
  {
   "cell_type": "code",
   "execution_count": 28,
   "metadata": {
    "colab": {
     "base_uri": "https://localhost:8080/",
     "height": 286
    },
    "colab_type": "code",
    "id": "qcnu80BW2mk_",
    "outputId": "32680026-fec3-4c7b-a077-2998780d8230"
   },
   "outputs": [
    {
     "data": {
      "text/plain": [
       "[<matplotlib.lines.Line2D at 0x7f14e1688eb8>]"
      ]
     },
     "execution_count": 28,
     "metadata": {
      "tags": []
     },
     "output_type": "execute_result"
    },
    {
     "data": {
      "image/png": "[encoded data removed]",
      "text/plain": [
       "<Figure size 432x288 with 1 Axes>"
      ]
     },
     "metadata": {
      "tags": []
     },
     "output_type": "display_data"
    }
   ],
   "source": [
    "plt.plot(y)"
   ]
  },
  {
   "cell_type": "code",
   "execution_count": 29,
   "metadata": {
    "colab": {
     "base_uri": "https://localhost:8080/",
     "height": 34
    },
    "colab_type": "code",
    "id": "1DJB21yG2rP3",
    "outputId": "d074a2ae-084e-4e59-b41c-bc4bd5a8e295"
   },
   "outputs": [
    {
     "name": "stdout",
     "output_type": "stream",
     "text": [
      "(956, 5, 1) (240, 5, 1)\n"
     ]
    }
   ],
   "source": [
    "#splitting d data\n",
    "\n",
    "num = int(x.shape[0] * 0.8)\n",
    "\n",
    "\n",
    "train_x = x[:num]\n",
    "test_x = x[num:]\n",
    "\n",
    "\n",
    "train_y = y[:num]\n",
    "test_y = y[num:]\n",
    "\n",
    "\n",
    "print(train_x.shape,test_x.shape)\n"
   ]
  },
  {
   "cell_type": "code",
   "execution_count": 75,
   "metadata": {
    "colab": {
     "base_uri": "https://localhost:8080/",
     "height": 238
    },
    "colab_type": "code",
    "id": "TohERACg3LQE",
    "outputId": "28d56c24-2269-4a9c-a42e-fd78e1044750"
   },
   "outputs": [
    {
     "name": "stdout",
     "output_type": "stream",
     "text": [
      "_________________________________________________________________\n",
      "Layer (type)                 Output Shape              Param #   \n",
      "=================================================================\n",
      "lstm_15 (LSTM)               (None, 5, 64)             16896     \n",
      "_________________________________________________________________\n",
      "lstm_16 (LSTM)               (None, 64)                33024     \n",
      "_________________________________________________________________\n",
      "dense_8 (Dense)              (None, 1)                 65        \n",
      "=================================================================\n",
      "Total params: 49,985\n",
      "Trainable params: 49,985\n",
      "Non-trainable params: 0\n",
      "_________________________________________________________________\n"
     ]
    }
   ],
   "source": [
    "#traning the model\n",
    "from keras.models import Sequential\n",
    "from keras import layers\n",
    "from keras.optimizers import RMSprop\n",
    "\n",
    "model = Sequential()\n",
    "model.add(layers.LSTM(64, input_shape=(time_step,1),dropout = 0.2 , recurrent_dropout = 0.2,return_sequences = True))\n",
    "model.add(layers.LSTM(64,dropout = 0.3 , recurrent_dropout = 0.3,return_sequences = False))\n",
    "# model.add(layers.LSTM(256,dropout = 0.2 , recurrent_dropout = 0.2))\n",
    "\n",
    "model.add(layers.Dense(1))\n",
    "\n",
    "model.compile(optimizer=RMSprop(), loss='mse')\n",
    "\n",
    "model.summary()                 "
   ]
  },
  {
   "cell_type": "code",
   "execution_count": 76,
   "metadata": {
    "colab": {
     "base_uri": "https://localhost:8080/",
     "height": 1734
    },
    "colab_type": "code",
    "id": "keUtIIYV3Vei",
    "outputId": "ae3f62d7-eeb1-4a5c-9d05-7e31ccaa46d9"
   },
   "outputs": [
    {
     "name": "stdout",
     "output_type": "stream",
     "text": [
      "Train on 956 samples, validate on 240 samples\n",
      "Epoch 1/50\n",
      "956/956 [==============================] - 5s 5ms/step - loss: 0.5558 - val_loss: 0.4840\n",
      "Epoch 2/50\n",
      "956/956 [==============================] - 1s 775us/step - loss: 0.4967 - val_loss: 0.4070\n",
      "Epoch 3/50\n",
      "956/956 [==============================] - 1s 775us/step - loss: 0.4954 - val_loss: 0.4184\n",
      "Epoch 4/50\n",
      "956/956 [==============================] - 1s 777us/step - loss: 0.4772 - val_loss: 0.3848\n",
      "Epoch 5/50\n",
      "956/956 [==============================] - 1s 793us/step - loss: 0.4140 - val_loss: 0.3387\n",
      "Epoch 6/50\n",
      "956/956 [==============================] - 1s 774us/step - loss: 0.3946 - val_loss: 0.3401\n",
      "Epoch 7/50\n",
      "956/956 [==============================] - 1s 781us/step - loss: 0.3810 - val_loss: 0.2821\n",
      "Epoch 8/50\n",
      "956/956 [==============================] - 1s 791us/step - loss: 0.3782 - val_loss: 0.3131\n",
      "Epoch 9/50\n",
      "956/956 [==============================] - 1s 778us/step - loss: 0.3741 - val_loss: 0.2941\n",
      "Epoch 10/50\n",
      "956/956 [==============================] - 1s 782us/step - loss: 0.3507 - val_loss: 0.2382\n",
      "Epoch 11/50\n",
      "956/956 [==============================] - 1s 783us/step - loss: 0.3335 - val_loss: 0.2557\n",
      "Epoch 12/50\n",
      "956/956 [==============================] - 1s 778us/step - loss: 0.3142 - val_loss: 0.2142\n",
      "Epoch 13/50\n",
      "956/956 [==============================] - 1s 775us/step - loss: 0.3068 - val_loss: 0.2391\n",
      "Epoch 14/50\n",
      "956/956 [==============================] - 1s 792us/step - loss: 0.3118 - val_loss: 0.2205\n",
      "Epoch 15/50\n",
      "956/956 [==============================] - 1s 794us/step - loss: 0.3142 - val_loss: 0.2334\n",
      "Epoch 16/50\n",
      "956/956 [==============================] - 1s 803us/step - loss: 0.3109 - val_loss: 0.2240\n",
      "Epoch 17/50\n",
      "956/956 [==============================] - 1s 771us/step - loss: 0.3123 - val_loss: 0.2180\n",
      "Epoch 18/50\n",
      "956/956 [==============================] - 1s 781us/step - loss: 0.3146 - val_loss: 0.2409\n",
      "Epoch 19/50\n",
      "956/956 [==============================] - 1s 795us/step - loss: 0.3103 - val_loss: 0.2021\n",
      "Epoch 20/50\n",
      "956/956 [==============================] - 1s 781us/step - loss: 0.3037 - val_loss: 0.2801\n",
      "Epoch 21/50\n",
      "956/956 [==============================] - 1s 789us/step - loss: 0.2886 - val_loss: 0.1932\n",
      "Epoch 22/50\n",
      "956/956 [==============================] - 1s 778us/step - loss: 0.2994 - val_loss: 0.1985\n",
      "Epoch 23/50\n",
      "956/956 [==============================] - 1s 783us/step - loss: 0.2938 - val_loss: 0.1950\n",
      "Epoch 24/50\n",
      "956/956 [==============================] - 1s 761us/step - loss: 0.2839 - val_loss: 0.2127\n",
      "Epoch 25/50\n",
      "956/956 [==============================] - 1s 792us/step - loss: 0.2795 - val_loss: 0.2005\n",
      "Epoch 26/50\n",
      "956/956 [==============================] - 1s 798us/step - loss: 0.2952 - val_loss: 0.2226\n",
      "Epoch 27/50\n",
      "956/956 [==============================] - 1s 792us/step - loss: 0.2719 - val_loss: 0.1894\n",
      "Epoch 28/50\n",
      "956/956 [==============================] - 1s 769us/step - loss: 0.2643 - val_loss: 0.1826\n",
      "Epoch 29/50\n",
      "956/956 [==============================] - 1s 855us/step - loss: 0.2715 - val_loss: 0.1906\n",
      "Epoch 30/50\n",
      "956/956 [==============================] - 1s 794us/step - loss: 0.2823 - val_loss: 0.1858\n",
      "Epoch 31/50\n",
      "956/956 [==============================] - 1s 798us/step - loss: 0.2650 - val_loss: 0.2036\n",
      "Epoch 32/50\n",
      "956/956 [==============================] - 1s 810us/step - loss: 0.2648 - val_loss: 0.1883\n",
      "Epoch 33/50\n",
      "956/956 [==============================] - 1s 830us/step - loss: 0.2595 - val_loss: 0.1949\n",
      "Epoch 34/50\n",
      "956/956 [==============================] - 1s 784us/step - loss: 0.2595 - val_loss: 0.1839\n",
      "Epoch 35/50\n",
      "956/956 [==============================] - 1s 793us/step - loss: 0.2612 - val_loss: 0.2027\n",
      "Epoch 36/50\n",
      "956/956 [==============================] - 1s 798us/step - loss: 0.2452 - val_loss: 0.2052\n",
      "Epoch 37/50\n",
      "956/956 [==============================] - 1s 780us/step - loss: 0.2471 - val_loss: 0.1822\n",
      "Epoch 38/50\n",
      "956/956 [==============================] - 1s 778us/step - loss: 0.2444 - val_loss: 0.1944\n",
      "Epoch 39/50\n",
      "956/956 [==============================] - 1s 777us/step - loss: 0.2505 - val_loss: 0.1829\n",
      "Epoch 40/50\n",
      "956/956 [==============================] - 1s 781us/step - loss: 0.2609 - val_loss: 0.1900\n",
      "Epoch 41/50\n",
      "956/956 [==============================] - 1s 772us/step - loss: 0.2495 - val_loss: 0.1919\n",
      "Epoch 42/50\n",
      "956/956 [==============================] - 1s 776us/step - loss: 0.2522 - val_loss: 0.2135\n",
      "Epoch 43/50\n",
      "956/956 [==============================] - 1s 764us/step - loss: 0.2560 - val_loss: 0.1964\n",
      "Epoch 44/50\n",
      "956/956 [==============================] - 1s 788us/step - loss: 0.2416 - val_loss: 0.1907\n",
      "Epoch 45/50\n",
      "956/956 [==============================] - 1s 772us/step - loss: 0.2498 - val_loss: 0.1990\n",
      "Epoch 46/50\n",
      "956/956 [==============================] - 1s 794us/step - loss: 0.2361 - val_loss: 0.1999\n",
      "Epoch 47/50\n",
      "956/956 [==============================] - 1s 767us/step - loss: 0.2457 - val_loss: 0.2239\n",
      "Epoch 48/50\n",
      "956/956 [==============================] - 1s 797us/step - loss: 0.2500 - val_loss: 0.2073\n",
      "Epoch 49/50\n",
      "956/956 [==============================] - 1s 818us/step - loss: 0.2485 - val_loss: 0.1929\n",
      "Epoch 50/50\n",
      "956/956 [==============================] - 1s 876us/step - loss: 0.2421 - val_loss: 0.1925\n"
     ]
    }
   ],
   "source": [
    "history = model.fit(train_x,train_y,\n",
    "#                               steps_per_eochs = 200,\n",
    "                              epochs=50\n",
    "                    ,\n",
    "                              validation_data=(test_x,test_y)\n",
    "#                     ,validation_steps = 100 \n",
    "                )"
   ]
  },
  {
   "cell_type": "markdown",
   "metadata": {
    "colab_type": "text",
    "id": "YwhzdEj16xND"
   },
   "source": [
    "#HyperParameter Optimisation"
   ]
  },
  {
   "cell_type": "code",
   "execution_count": 0,
   "metadata": {
    "colab": {},
    "colab_type": "code",
    "id": "iRl4iYvW4ULj"
   },
   "outputs": [],
   "source": [
    "model.save('tmp_pred_final.h5')"
   ]
  },
  {
   "cell_type": "code",
   "execution_count": 54,
   "metadata": {
    "colab": {
     "base_uri": "https://localhost:8080/",
     "height": 286
    },
    "colab_type": "code",
    "id": "Vsjwnnkh3abR",
    "outputId": "19d83d3a-05e9-4287-e2d7-8c1e545e0bae"
   },
   "outputs": [
    {
     "data": {
      "text/plain": [
       "<matplotlib.legend.Legend at 0x7f14633caf98>"
      ]
     },
     "execution_count": 54,
     "metadata": {
      "tags": []
     },
     "output_type": "execute_result"
    },
    {
     "data": {
      "image/png": "[encoded data removed]",
      "text/plain": [
       "<Figure size 432x288 with 1 Axes>"
      ]
     },
     "metadata": {
      "tags": []
     },
     "output_type": "display_data"
    }
   ],
   "source": [
    "plt.plot(model.predict(train_x),c = 'g',label = 'predicted')\n",
    "\n",
    "plt.plot(train_y,c = 'b',label = 'actual')\n",
    "\n",
    "plt.legend()"
   ]
  },
  {
   "cell_type": "code",
   "execution_count": 34,
   "metadata": {
    "colab": {
     "base_uri": "https://localhost:8080/",
     "height": 286
    },
    "colab_type": "code",
    "id": "HLhc8lKM4hSu",
    "outputId": "dfc2f13c-128f-4eb7-a646-bb07766eb718"
   },
   "outputs": [
    {
     "data": {
      "text/plain": [
       "<matplotlib.legend.Legend at 0x7f148a462fd0>"
      ]
     },
     "execution_count": 34,
     "metadata": {
      "tags": []
     },
     "output_type": "execute_result"
    },
    {
     "data": {
      "image/png": "[encoded data removed]",
      "text/plain": [
       "<Figure size 432x288 with 1 Axes>"
      ]
     },
     "metadata": {
      "tags": []
     },
     "output_type": "display_data"
    }
   ],
   "source": [
    "plt.plot(model.predict(test_x),c = 'g',label = 'predicted')\n",
    "\n",
    "plt.plot(test_y,c = 'b',label = 'actual')\n",
    "\n",
    "plt.legend()"
   ]
  },
  {
   "cell_type": "code",
   "execution_count": 35,
   "metadata": {
    "colab": {
     "base_uri": "https://localhost:8080/",
     "height": 34
    },
    "colab_type": "code",
    "id": "NioozwNe5etX",
    "outputId": "d64268a6-2759-497c-8357-55d2ecf1185e"
   },
   "outputs": [
    {
     "data": {
      "text/plain": [
       "(34.472872606161545, 2.8728795933564566)"
      ]
     },
     "execution_count": 35,
     "metadata": {
      "tags": []
     },
     "output_type": "execute_result"
    }
   ],
   "source": [
    "mean,std"
   ]
  },
  {
   "cell_type": "code",
   "execution_count": 0,
   "metadata": {
    "colab": {},
    "colab_type": "code",
    "id": "U413FXSz5X37"
   },
   "outputs": [],
   "source": [
    "def inv_norm(x,mean,std):\n",
    "  \n",
    "  return x*std+ mean\n",
    "  \n",
    "  \n",
    "  \n",
    "  "
   ]
  },
  {
   "cell_type": "code",
   "execution_count": 37,
   "metadata": {
    "colab": {
     "base_uri": "https://localhost:8080/",
     "height": 68
    },
    "colab_type": "code",
    "id": "1xGQKEQk5q5K",
    "outputId": "c8113526-6cfa-41a5-dbd5-3fa4dced8881"
   },
   "outputs": [
    {
     "name": "stdout",
     "output_type": "stream",
     "text": [
      "de normalizing to get actual temp. values\n",
      "32.96000000000001\n",
      "32.08\n"
     ]
    }
   ],
   "source": [
    "print('de normalizing to get actual temp. values')\n",
    "\n",
    "\n",
    "print(data['Temp_c'][num])\n",
    "\n",
    "print(inv_norm(test_y[0],mean,std))"
   ]
  },
  {
   "cell_type": "code",
   "execution_count": 38,
   "metadata": {
    "colab": {
     "base_uri": "https://localhost:8080/",
     "height": 34
    },
    "colab_type": "code",
    "id": "EZUvvQ2V61ge",
    "outputId": "60c36f41-ed0a-4720-9a59-5801e2749018"
   },
   "outputs": [
    {
     "data": {
      "text/plain": [
       "array([[32.78519]], dtype=float32)"
      ]
     },
     "execution_count": 38,
     "metadata": {
      "tags": []
     },
     "output_type": "execute_result"
    }
   ],
   "source": [
    "inv_norm(model.predict(np.expand_dims(test_x[0],axis = 0)),mean,std)"
   ]
  },
  {
   "cell_type": "markdown",
   "metadata": {
    "colab_type": "text",
    "id": "OcmCqX6DFjLg"
   },
   "source": [
    "#Testing on traning data 12 days of April 2019 \n"
   ]
  },
  {
   "cell_type": "code",
   "execution_count": 39,
   "metadata": {
    "colab": {
     "base_uri": "https://localhost:8080/",
     "height": 452
    },
    "colab_type": "code",
    "id": "bmNlrJodFoQ1",
    "outputId": "34b5684a-4387-46f1-b272-20888a19c405"
   },
   "outputs": [
    {
     "data": {
      "text/html": [
       "<div>\n",
       "<style scoped>\n",
       "    .dataframe tbody tr th:only-of-type {\n",
       "        vertical-align: middle;\n",
       "    }\n",
       "\n",
       "    .dataframe tbody tr th {\n",
       "        vertical-align: top;\n",
       "    }\n",
       "\n",
       "    .dataframe thead th {\n",
       "        text-align: right;\n",
       "    }\n",
       "</style>\n",
       "<table border=\"1\" class=\"dataframe\">\n",
       "  <thead>\n",
       "    <tr style=\"text-align: right;\">\n",
       "      <th></th>\n",
       "      <th>Month</th>\n",
       "      <th>Day</th>\n",
       "      <th>Year</th>\n",
       "      <th>Temp(F)</th>\n",
       "      <th>Temp_c</th>\n",
       "      <th>Temp_c_norm</th>\n",
       "    </tr>\n",
       "  </thead>\n",
       "  <tbody>\n",
       "    <tr>\n",
       "      <th>1188</th>\n",
       "      <td>4</td>\n",
       "      <td>10</td>\n",
       "      <td>2019</td>\n",
       "      <td>84.4</td>\n",
       "      <td>35.52</td>\n",
       "      <td>0.364487</td>\n",
       "    </tr>\n",
       "    <tr>\n",
       "      <th>1189</th>\n",
       "      <td>4</td>\n",
       "      <td>11</td>\n",
       "      <td>2019</td>\n",
       "      <td>84.8</td>\n",
       "      <td>35.84</td>\n",
       "      <td>0.475874</td>\n",
       "    </tr>\n",
       "    <tr>\n",
       "      <th>1190</th>\n",
       "      <td>4</td>\n",
       "      <td>12</td>\n",
       "      <td>2019</td>\n",
       "      <td>85.0</td>\n",
       "      <td>36.00</td>\n",
       "      <td>0.531567</td>\n",
       "    </tr>\n",
       "    <tr>\n",
       "      <th>1191</th>\n",
       "      <td>4</td>\n",
       "      <td>13</td>\n",
       "      <td>2019</td>\n",
       "      <td>88.1</td>\n",
       "      <td>38.48</td>\n",
       "      <td>1.394812</td>\n",
       "    </tr>\n",
       "    <tr>\n",
       "      <th>1192</th>\n",
       "      <td>4</td>\n",
       "      <td>14</td>\n",
       "      <td>2019</td>\n",
       "      <td>87.1</td>\n",
       "      <td>37.68</td>\n",
       "      <td>1.116346</td>\n",
       "    </tr>\n",
       "    <tr>\n",
       "      <th>1193</th>\n",
       "      <td>4</td>\n",
       "      <td>15</td>\n",
       "      <td>2019</td>\n",
       "      <td>86.3</td>\n",
       "      <td>37.04</td>\n",
       "      <td>0.893573</td>\n",
       "    </tr>\n",
       "    <tr>\n",
       "      <th>1194</th>\n",
       "      <td>4</td>\n",
       "      <td>16</td>\n",
       "      <td>2019</td>\n",
       "      <td>85.8</td>\n",
       "      <td>36.64</td>\n",
       "      <td>0.754340</td>\n",
       "    </tr>\n",
       "    <tr>\n",
       "      <th>1195</th>\n",
       "      <td>4</td>\n",
       "      <td>17</td>\n",
       "      <td>2019</td>\n",
       "      <td>84.8</td>\n",
       "      <td>35.84</td>\n",
       "      <td>0.475874</td>\n",
       "    </tr>\n",
       "    <tr>\n",
       "      <th>1196</th>\n",
       "      <td>4</td>\n",
       "      <td>18</td>\n",
       "      <td>2019</td>\n",
       "      <td>84.5</td>\n",
       "      <td>35.60</td>\n",
       "      <td>0.392334</td>\n",
       "    </tr>\n",
       "    <tr>\n",
       "      <th>1197</th>\n",
       "      <td>4</td>\n",
       "      <td>19</td>\n",
       "      <td>2019</td>\n",
       "      <td>87.1</td>\n",
       "      <td>37.68</td>\n",
       "      <td>1.116346</td>\n",
       "    </tr>\n",
       "    <tr>\n",
       "      <th>1198</th>\n",
       "      <td>4</td>\n",
       "      <td>20</td>\n",
       "      <td>2019</td>\n",
       "      <td>85.1</td>\n",
       "      <td>36.08</td>\n",
       "      <td>0.559413</td>\n",
       "    </tr>\n",
       "    <tr>\n",
       "      <th>1199</th>\n",
       "      <td>4</td>\n",
       "      <td>21</td>\n",
       "      <td>2019</td>\n",
       "      <td>84.4</td>\n",
       "      <td>35.52</td>\n",
       "      <td>0.364487</td>\n",
       "    </tr>\n",
       "    <tr>\n",
       "      <th>1200</th>\n",
       "      <td>4</td>\n",
       "      <td>22</td>\n",
       "      <td>2019</td>\n",
       "      <td>85.7</td>\n",
       "      <td>36.56</td>\n",
       "      <td>0.726493</td>\n",
       "    </tr>\n",
       "  </tbody>\n",
       "</table>\n",
       "</div>"
      ],
      "text/plain": [
       "      Month  Day  Year  Temp(F)  Temp_c  Temp_c_norm\n",
       "1188      4   10  2019     84.4   35.52     0.364487\n",
       "1189      4   11  2019     84.8   35.84     0.475874\n",
       "1190      4   12  2019     85.0   36.00     0.531567\n",
       "1191      4   13  2019     88.1   38.48     1.394812\n",
       "1192      4   14  2019     87.1   37.68     1.116346\n",
       "1193      4   15  2019     86.3   37.04     0.893573\n",
       "1194      4   16  2019     85.8   36.64     0.754340\n",
       "1195      4   17  2019     84.8   35.84     0.475874\n",
       "1196      4   18  2019     84.5   35.60     0.392334\n",
       "1197      4   19  2019     87.1   37.68     1.116346\n",
       "1198      4   20  2019     85.1   36.08     0.559413\n",
       "1199      4   21  2019     84.4   35.52     0.364487\n",
       "1200      4   22  2019     85.7   36.56     0.726493"
      ]
     },
     "execution_count": 39,
     "metadata": {
      "tags": []
     },
     "output_type": "execute_result"
    }
   ],
   "source": [
    "data.iloc[1188:]"
   ]
  },
  {
   "cell_type": "code",
   "execution_count": 40,
   "metadata": {
    "colab": {
     "base_uri": "https://localhost:8080/",
     "height": 119
    },
    "colab_type": "code",
    "id": "odmLxQQrJroe",
    "outputId": "68ce8740-e045-4b83-87c8-7b2bf46b67b4"
   },
   "outputs": [
    {
     "name": "stdout",
     "output_type": "stream",
     "text": [
      "1188    0.364487\n",
      "1189    0.475874\n",
      "1190    0.531567\n",
      "1191    1.394812\n",
      "1192    1.116346\n",
      "Name: Temp_c_norm, dtype: float64\n"
     ]
    }
   ],
   "source": [
    "print(data['Temp_c_norm'][1188:1188+5])"
   ]
  },
  {
   "cell_type": "code",
   "execution_count": 41,
   "metadata": {
    "colab": {
     "base_uri": "https://localhost:8080/",
     "height": 51
    },
    "colab_type": "code",
    "id": "0fvllWsrICIx",
    "outputId": "3fc3b78f-1380-434b-c7ea-b3e07992b6ea"
   },
   "outputs": [
    {
     "name": "stdout",
     "output_type": "stream",
     "text": [
      "inputing days from 10 - 14 and expecting value of day 15\n",
      "actual value 37.040000000000006 and predicted [[37.040363]] \n"
     ]
    }
   ],
   "source": [
    "print('inputing days from 10 - 14 and expecting value of day 15')\n",
    "pred = model.predict(data['Temp_c_norm'][1188:1188+5].values.reshape(1,5,1))\n",
    "p = inv_norm(pred,mean,std)\n",
    "\n",
    "print('actual value {} and predicted {} '.format(inv_norm(data['Temp_c_norm'][1193],mean,std),p))"
   ]
  },
  {
   "cell_type": "markdown",
   "metadata": {
    "colab_type": "text",
    "id": "z84mQU04KC0T"
   },
   "source": [
    "#Real World Testing trying to predict the value of 23 April 2019 not a part of Dataset"
   ]
  },
  {
   "cell_type": "code",
   "execution_count": 42,
   "metadata": {
    "colab": {
     "base_uri": "https://localhost:8080/",
     "height": 221
    },
    "colab_type": "code",
    "id": "jGYcrUCbKgkc",
    "outputId": "72320fc7-5a62-4795-b8d4-2cbb575eaf40"
   },
   "outputs": [
    {
     "name": "stdout",
     "output_type": "stream",
     "text": [
      "inputing temp from 18 - 22 nd \n"
     ]
    },
    {
     "data": {
      "text/html": [
       "<div>\n",
       "<style scoped>\n",
       "    .dataframe tbody tr th:only-of-type {\n",
       "        vertical-align: middle;\n",
       "    }\n",
       "\n",
       "    .dataframe tbody tr th {\n",
       "        vertical-align: top;\n",
       "    }\n",
       "\n",
       "    .dataframe thead th {\n",
       "        text-align: right;\n",
       "    }\n",
       "</style>\n",
       "<table border=\"1\" class=\"dataframe\">\n",
       "  <thead>\n",
       "    <tr style=\"text-align: right;\">\n",
       "      <th></th>\n",
       "      <th>Month</th>\n",
       "      <th>Day</th>\n",
       "      <th>Year</th>\n",
       "      <th>Temp(F)</th>\n",
       "      <th>Temp_c</th>\n",
       "      <th>Temp_c_norm</th>\n",
       "    </tr>\n",
       "  </thead>\n",
       "  <tbody>\n",
       "    <tr>\n",
       "      <th>1196</th>\n",
       "      <td>4</td>\n",
       "      <td>18</td>\n",
       "      <td>2019</td>\n",
       "      <td>84.5</td>\n",
       "      <td>35.60</td>\n",
       "      <td>0.392334</td>\n",
       "    </tr>\n",
       "    <tr>\n",
       "      <th>1197</th>\n",
       "      <td>4</td>\n",
       "      <td>19</td>\n",
       "      <td>2019</td>\n",
       "      <td>87.1</td>\n",
       "      <td>37.68</td>\n",
       "      <td>1.116346</td>\n",
       "    </tr>\n",
       "    <tr>\n",
       "      <th>1198</th>\n",
       "      <td>4</td>\n",
       "      <td>20</td>\n",
       "      <td>2019</td>\n",
       "      <td>85.1</td>\n",
       "      <td>36.08</td>\n",
       "      <td>0.559413</td>\n",
       "    </tr>\n",
       "    <tr>\n",
       "      <th>1199</th>\n",
       "      <td>4</td>\n",
       "      <td>21</td>\n",
       "      <td>2019</td>\n",
       "      <td>84.4</td>\n",
       "      <td>35.52</td>\n",
       "      <td>0.364487</td>\n",
       "    </tr>\n",
       "    <tr>\n",
       "      <th>1200</th>\n",
       "      <td>4</td>\n",
       "      <td>22</td>\n",
       "      <td>2019</td>\n",
       "      <td>85.7</td>\n",
       "      <td>36.56</td>\n",
       "      <td>0.726493</td>\n",
       "    </tr>\n",
       "  </tbody>\n",
       "</table>\n",
       "</div>"
      ],
      "text/plain": [
       "      Month  Day  Year  Temp(F)  Temp_c  Temp_c_norm\n",
       "1196      4   18  2019     84.5   35.60     0.392334\n",
       "1197      4   19  2019     87.1   37.68     1.116346\n",
       "1198      4   20  2019     85.1   36.08     0.559413\n",
       "1199      4   21  2019     84.4   35.52     0.364487\n",
       "1200      4   22  2019     85.7   36.56     0.726493"
      ]
     },
     "execution_count": 42,
     "metadata": {
      "tags": []
     },
     "output_type": "execute_result"
    }
   ],
   "source": [
    "print('inputing temp from 18 - 22 nd ')\n",
    "# data['Temp_c_norm'][1196:1196+5]\n",
    "data.iloc[-5:]"
   ]
  },
  {
   "cell_type": "code",
   "execution_count": 43,
   "metadata": {
    "colab": {
     "base_uri": "https://localhost:8080/",
     "height": 51
    },
    "colab_type": "code",
    "id": "Iv5ZZFPdKN3Q",
    "outputId": "e6cd36f0-a9de-43c2-acf7-2d516f7a5abe"
   },
   "outputs": [
    {
     "name": "stdout",
     "output_type": "stream",
     "text": [
      "inputing days from 18 - 22 and expecting value of day 23\n"
     ]
    },
    {
     "data": {
      "text/plain": [
       "array([[36.758698]], dtype=float32)"
      ]
     },
     "execution_count": 43,
     "metadata": {
      "tags": []
     },
     "output_type": "execute_result"
    }
   ],
   "source": [
    "print('inputing days from 18 - 22 and expecting value of day 23')\n",
    "pred = model.predict(data['Temp_c_norm'][1196:1196+5].values.reshape(1,5,1))\n",
    "inv_norm(pred,mean,std)"
   ]
  },
  {
   "cell_type": "markdown",
   "metadata": {
    "colab_type": "text",
    "id": "pp4jCG3GMAym"
   },
   "source": [
    "# so actual temperature of 23 april 2019 was 35 and the prediction was 36.38 \n",
    "\n",
    "https://www.accuweather.com/en/in/mumbai/204842/april-weather/204842?monyr=4/1/2019&view=table"
   ]
  },
  {
   "cell_type": "code",
   "execution_count": 0,
   "metadata": {
    "colab": {},
    "colab_type": "code",
    "id": "Zg6ra-6qmyAP"
   },
   "outputs": [],
   "source": []
  },
  {
   "cell_type": "markdown",
   "metadata": {
    "colab_type": "text",
    "id": "oUYgppggBM74"
   },
   "source": [
    "Notes : \n",
    "\n",
    "\n",
    "1.   increasing the dropout rate above 0.2 increases the loss (just keeping to prevent overfitting )\n",
    "2.   using mse as loss function instead of mae changed the error for 0.3 to 0.2\n",
    "3.  using more than 2 layer of LStm didnt improve loss .\n",
    "\n",
    "\n",
    " "
   ]
  },
  {
   "cell_type": "markdown",
   "metadata": {
    "colab_type": "text",
    "id": "PWpFEyl6FgDK"
   },
   "source": [
    "#Trying to predict 24,25,26,27,28,29 april 2019"
   ]
  },
  {
   "cell_type": "code",
   "execution_count": 55,
   "metadata": {
    "colab": {
     "base_uri": "https://localhost:8080/",
     "height": 119
    },
    "colab_type": "code",
    "id": "KGw_2fgxFe53",
    "outputId": "c541cf12-c014-45e3-bbf5-b19a3697a43e"
   },
   "outputs": [
    {
     "name": "stdout",
     "output_type": "stream",
     "text": [
      "[0.39233367 1.11634591 0.55941342 0.36448705 0.72649317]\n",
      "[1.11634591 0.55941342 0.36448705 0.72649317]\n",
      "[0.55941342 0.36448705 0.72649317]\n",
      "[0.36448705 0.72649317]\n",
      "[0.72649317]\n",
      "[]\n"
     ]
    }
   ],
   "source": [
    "#preparing input data\n",
    "n = 1196\n",
    "lst = []\n",
    "for  i in range(6):\n",
    "  \n",
    "  lst.append(data['Temp_c_norm'][n+i:n+i+time_step].values)\n",
    "  print(data['Temp_c_norm'][n+i:n+i+time_step].values)\n",
    " \n",
    "  \n",
    "  \n",
    "  \n",
    "  "
   ]
  },
  {
   "cell_type": "code",
   "execution_count": 77,
   "metadata": {
    "colab": {
     "base_uri": "https://localhost:8080/",
     "height": 119
    },
    "colab_type": "code",
    "id": "xh1xynyDrCo4",
    "outputId": "c2c6b61a-f57f-49ab-f836-e192b3ef76c2"
   },
   "outputs": [
    {
     "name": "stdout",
     "output_type": "stream",
     "text": [
      "[0.39233367 1.11634591 0.55941342 0.36448705 0.72649317]\n",
      "[1.11634591 0.55941342 0.36448705 0.72649317 0.65577185]\n",
      "[0.55941342 0.36448705 0.72649317 0.65577185 0.57968867]\n",
      "[0.36448705 0.72649317 0.65577185 0.57968867 0.50028574]\n",
      "[0.72649317 0.65577185 0.57968867 0.50028574 0.4448961 ]\n",
      "[0.65577185 0.57968867 0.50028574 0.4448961  0.41829675]\n"
     ]
    }
   ],
   "source": [
    "\n",
    "preds = []\n",
    "for i in lst:\n",
    "  \n",
    "  if i.shape[0] < 5:\n",
    "    i = np.append(i,preds)\n",
    "    \n",
    "  print(i)  \n",
    "  preds.append(model.predict(i.reshape(1,time_step,1)))\n",
    "  \n",
    " \n",
    "  \n",
    "  "
   ]
  },
  {
   "cell_type": "code",
   "execution_count": 78,
   "metadata": {
    "colab": {
     "base_uri": "https://localhost:8080/",
     "height": 119
    },
    "colab_type": "code",
    "id": "PsdiubznFezj",
    "outputId": "d6f5cb88-70ea-4a1a-be8d-3239768db5bb"
   },
   "outputs": [
    {
     "name": "stdout",
     "output_type": "stream",
     "text": [
      "[[36.356827]] 23\n",
      "[[36.13825]] 24\n",
      "[[35.910133]] 25\n",
      "[[35.751007]] 26\n",
      "[[35.67459]] 27\n",
      "[[35.60093]] 28\n"
     ]
    }
   ],
   "source": [
    "days = [23,24,25,26,27,28]\n",
    "for i in range(6):\n",
    "  print(inv_norm(preds[i],mean,std),days[i])"
   ]
  },
  {
   "cell_type": "code",
   "execution_count": 47,
   "metadata": {
    "colab": {
     "base_uri": "https://localhost:8080/",
     "height": 51
    },
    "colab_type": "code",
    "id": "lv6aOCF3ugo-",
    "outputId": "45aa237a-16bc-4e1e-f14e-c533c29a7e21"
   },
   "outputs": [
    {
     "name": "stdout",
     "output_type": "stream",
     "text": [
      "true_value -2.0024760590263075\n",
      "[[-1.5522137]]\n"
     ]
    }
   ],
   "source": [
    "i =  10\n",
    "print('true_value',train_y[i])\n",
    "print(model.predict(train_x[i].reshape(1,5,1)))"
   ]
  },
  {
   "cell_type": "code",
   "execution_count": 0,
   "metadata": {
    "colab": {},
    "colab_type": "code",
    "id": "0YB3Xyx9FgVk"
   },
   "outputs": [],
   "source": [
    "#traning the model\n",
    "from keras.models import Sequential\n",
    "from keras import layers\n",
    "from keras.optimizers import RMSprop\n",
    "\n",
    "def build_model(units_1,units_2,do,do_r):\n",
    "  model2 = Sequential()\n",
    "  model2.add(layers.LSTM(units_1, input_shape=(time_step,1),dropout = do , recurrent_dropout = do,return_sequences = True))\n",
    "  model2.add(layers.LSTM(units_2,dropout = do_r , recurrent_dropout = do_r,return_sequences = False))\n",
    "  # model.add(layers.LSTM(256,dropout = 0.2 , recurrent_dropout = 0.2))\n",
    "\n",
    "  model2.add(layers.Dense(1))\n",
    "\n",
    "  model2.compile(optimizer=RMSprop(), loss='mse')\n",
    "\n",
    "#   model2.summary()      \n",
    "  \n",
    "  history = model2.fit(train_x,train_y,\n",
    "#                               steps_per_eochs = 200,\n",
    "                              epochs=50\n",
    "                    ,\n",
    "                              validation_data=(test_x,test_y)\n",
    "#                     ,validation_steps = 100 \n",
    "                     )\n",
    "                      \n",
    "                      \n",
    "  return history\n",
    "  "
   ]
  },
  {
   "cell_type": "code",
   "execution_count": 49,
   "metadata": {
    "colab": {
     "base_uri": "https://localhost:8080/",
     "height": 1751
    },
    "colab_type": "code",
    "id": "Ysp3zqOXHOii",
    "outputId": "562b1de4-8649-4206-b73c-3380d0fc78fb"
   },
   "outputs": [
    {
     "name": "stdout",
     "output_type": "stream",
     "text": [
      "Train on 956 samples, validate on 240 samples\n",
      "Epoch 1/50\n",
      "956/956 [==============================] - 2s 2ms/step - loss: 0.6290 - val_loss: 0.5048\n",
      "Epoch 2/50\n",
      "956/956 [==============================] - 1s 820us/step - loss: 0.5308 - val_loss: 0.4704\n",
      "Epoch 3/50\n",
      "956/956 [==============================] - 1s 789us/step - loss: 0.4909 - val_loss: 0.4209\n",
      "Epoch 4/50\n",
      "956/956 [==============================] - 1s 767us/step - loss: 0.5014 - val_loss: 0.4366\n",
      "Epoch 5/50\n",
      "956/956 [==============================] - 1s 776us/step - loss: 0.4736 - val_loss: 0.3854\n",
      "Epoch 6/50\n",
      "956/956 [==============================] - 1s 778us/step - loss: 0.4432 - val_loss: 0.3814\n",
      "Epoch 7/50\n",
      "956/956 [==============================] - 1s 771us/step - loss: 0.4287 - val_loss: 0.3875\n",
      "Epoch 8/50\n",
      "956/956 [==============================] - 1s 775us/step - loss: 0.4489 - val_loss: 0.3666\n",
      "Epoch 9/50\n",
      "956/956 [==============================] - 1s 782us/step - loss: 0.4181 - val_loss: 0.3401\n",
      "Epoch 10/50\n",
      "956/956 [==============================] - 1s 779us/step - loss: 0.4320 - val_loss: 0.3310\n",
      "Epoch 11/50\n",
      "956/956 [==============================] - 1s 768us/step - loss: 0.4107 - val_loss: 0.3162\n",
      "Epoch 12/50\n",
      "956/956 [==============================] - 1s 769us/step - loss: 0.3633 - val_loss: 0.3198\n",
      "Epoch 13/50\n",
      "956/956 [==============================] - 1s 781us/step - loss: 0.4055 - val_loss: 0.2996\n",
      "Epoch 14/50\n",
      "956/956 [==============================] - 1s 791us/step - loss: 0.3679 - val_loss: 0.3077\n",
      "Epoch 15/50\n",
      "956/956 [==============================] - 1s 763us/step - loss: 0.3613 - val_loss: 0.2792\n",
      "Epoch 16/50\n",
      "956/956 [==============================] - 1s 801us/step - loss: 0.3675 - val_loss: 0.2726\n",
      "Epoch 17/50\n",
      "956/956 [==============================] - 1s 768us/step - loss: 0.3417 - val_loss: 0.2362\n",
      "Epoch 18/50\n",
      "956/956 [==============================] - 1s 766us/step - loss: 0.3153 - val_loss: 0.2263\n",
      "Epoch 19/50\n",
      "956/956 [==============================] - 1s 757us/step - loss: 0.3544 - val_loss: 0.2503\n",
      "Epoch 20/50\n",
      "956/956 [==============================] - 1s 769us/step - loss: 0.3267 - val_loss: 0.2210\n",
      "Epoch 21/50\n",
      "956/956 [==============================] - 1s 768us/step - loss: 0.3180 - val_loss: 0.2211\n",
      "Epoch 22/50\n",
      "956/956 [==============================] - 1s 757us/step - loss: 0.3332 - val_loss: 0.2134\n",
      "Epoch 23/50\n",
      "956/956 [==============================] - 1s 783us/step - loss: 0.3174 - val_loss: 0.2204\n",
      "Epoch 24/50\n",
      "956/956 [==============================] - 1s 763us/step - loss: 0.3102 - val_loss: 0.2048\n",
      "Epoch 25/50\n",
      "956/956 [==============================] - 1s 777us/step - loss: 0.3097 - val_loss: 0.1956\n",
      "Epoch 26/50\n",
      "956/956 [==============================] - 1s 775us/step - loss: 0.3119 - val_loss: 0.1917\n",
      "Epoch 27/50\n",
      "956/956 [==============================] - 1s 770us/step - loss: 0.2945 - val_loss: 0.1980\n",
      "Epoch 28/50\n",
      "956/956 [==============================] - 1s 770us/step - loss: 0.2784 - val_loss: 0.1931\n",
      "Epoch 29/50\n",
      "956/956 [==============================] - 1s 766us/step - loss: 0.2827 - val_loss: 0.2065\n",
      "Epoch 30/50\n",
      "956/956 [==============================] - 1s 792us/step - loss: 0.2787 - val_loss: 0.1914\n",
      "Epoch 31/50\n",
      "956/956 [==============================] - 1s 772us/step - loss: 0.2800 - val_loss: 0.1935\n",
      "Epoch 32/50\n",
      "956/956 [==============================] - 1s 795us/step - loss: 0.2797 - val_loss: 0.1903\n",
      "Epoch 33/50\n",
      "956/956 [==============================] - 1s 761us/step - loss: 0.2719 - val_loss: 0.1862\n",
      "Epoch 34/50\n",
      "956/956 [==============================] - 1s 765us/step - loss: 0.2695 - val_loss: 0.2037\n",
      "Epoch 35/50\n",
      "956/956 [==============================] - 1s 777us/step - loss: 0.2532 - val_loss: 0.1999\n",
      "Epoch 36/50\n",
      "956/956 [==============================] - 1s 778us/step - loss: 0.2466 - val_loss: 0.1881\n",
      "Epoch 37/50\n",
      "956/956 [==============================] - 1s 770us/step - loss: 0.2400 - val_loss: 0.2006\n",
      "Epoch 38/50\n",
      "956/956 [==============================] - 1s 777us/step - loss: 0.2545 - val_loss: 0.1838\n",
      "Epoch 39/50\n",
      "956/956 [==============================] - 1s 775us/step - loss: 0.2723 - val_loss: 0.1827\n",
      "Epoch 40/50\n",
      "956/956 [==============================] - 1s 767us/step - loss: 0.2595 - val_loss: 0.1868\n",
      "Epoch 41/50\n",
      "956/956 [==============================] - 1s 780us/step - loss: 0.2537 - val_loss: 0.1854\n",
      "Epoch 42/50\n",
      "956/956 [==============================] - 1s 766us/step - loss: 0.2605 - val_loss: 0.1850\n",
      "Epoch 43/50\n",
      "956/956 [==============================] - 1s 774us/step - loss: 0.2505 - val_loss: 0.1800\n",
      "Epoch 44/50\n",
      "956/956 [==============================] - 1s 760us/step - loss: 0.2468 - val_loss: 0.1841\n",
      "Epoch 45/50\n",
      "956/956 [==============================] - 1s 798us/step - loss: 0.2465 - val_loss: 0.1878\n",
      "Epoch 46/50\n",
      "956/956 [==============================] - 1s 773us/step - loss: 0.2518 - val_loss: 0.1990\n",
      "Epoch 47/50\n",
      "956/956 [==============================] - 1s 776us/step - loss: 0.2349 - val_loss: 0.1843\n",
      "Epoch 48/50\n",
      "956/956 [==============================] - 1s 768us/step - loss: 0.2531 - val_loss: 0.1864\n",
      "Epoch 49/50\n",
      "956/956 [==============================] - 1s 786us/step - loss: 0.2424 - val_loss: 0.1800\n",
      "Epoch 50/50\n",
      "956/956 [==============================] - 1s 785us/step - loss: 0.2475 - val_loss: 0.1829\n",
      "time taken: 40.93983221054077\n"
     ]
    }
   ],
   "source": [
    "units_1 = [32,64,128,32,256]\n",
    "units_2 = [64,128,256,32,512]\n",
    "do = [0.1,0.2,0.3,0.2,0.1]\n",
    "do_r = [0.2,0.1,0.1,0.3,0.2]\n",
    "\n",
    "\n",
    "import time\n",
    "s = time.time()\n",
    "t_loss = []\n",
    "for i in range(1):\n",
    "     \n",
    "#      t_loss.append(build_model(units_1[i],units_2[i],do[i],do_r[i]))\n",
    "       build_model(32,32,0.2,0.3)\n",
    "\n",
    "print('time taken:',time.time() - s)    \n"
   ]
  },
  {
   "cell_type": "code",
   "execution_count": 0,
   "metadata": {
    "colab": {},
    "colab_type": "code",
    "id": "nP3HoT03Rj7d"
   },
   "outputs": [],
   "source": []
  }
 ],
 "metadata": {
  "accelerator": "GPU",
  "colab": {
   "collapsed_sections": [
    "pI_ZDBhOqlm9"
   ],
   "name": "Sequence_preditions.ipynb",
   "provenance": [],
   "toc_visible": true,
   "version": "0.3.2"
  },
  "kernelspec": {
   "display_name": "Python 3",
   "language": "python",
   "name": "python3"
  },
  "language_info": {
   "codemirror_mode": {
    "name": "ipython",
    "version": 3
   },
   "file_extension": ".py",
   "mimetype": "text/x-python",
   "name": "python",
   "nbconvert_exporter": "python",
   "pygments_lexer": "ipython3",
   "version": "3.6.7"
  }
 },
 "nbformat": 4,
 "nbformat_minor": 1
}
